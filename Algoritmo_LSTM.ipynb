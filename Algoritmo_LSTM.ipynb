{
  "cells": [
    {
      "cell_type": "code",
      "execution_count": 11,
      "metadata": {},
      "outputs": [],
      "source": [
        "import numpy as np\n",
        "import pandas as pd\n",
        "import os\n",
        "import tensorflow as tf\n",
        "from tensorflow.keras.models import Sequential\n",
        "from tensorflow.keras.layers import LSTM, Dense\n",
        "import yfinance as yf\n",
        "from sklearn.preprocessing import MinMaxScaler\n",
        "from sklearn.metrics import mean_squared_error"
      ]
    },
    {
      "cell_type": "code",
      "execution_count": 12,
      "metadata": {
        "colab": {
          "base_uri": "https://localhost:8080/"
        },
        "id": "hpSmdGCsCFno",
        "outputId": "69e58ed1-389b-424c-f85b-5ed54016c24c"
      },
      "outputs": [
        {
          "ename": "NameError",
          "evalue": "name 'total_mse_high_normalized' is not defined",
          "output_type": "error",
          "traceback": [
            "\u001b[0;31m---------------------------------------------------------------------------\u001b[0m",
            "\u001b[0;31mNameError\u001b[0m                                 Traceback (most recent call last)",
            "Cell \u001b[0;32mIn[12], line 80\u001b[0m\n\u001b[1;32m     77\u001b[0m     total_mse_high_normalized \u001b[38;5;241m=\u001b[39m [mse \u001b[38;5;241m/\u001b[39m max_mse_high \u001b[38;5;28;01mfor\u001b[39;00m mse \u001b[38;5;129;01min\u001b[39;00m total_mse_high]\n\u001b[1;32m     78\u001b[0m     total_mse_low_normalized \u001b[38;5;241m=\u001b[39m [mse \u001b[38;5;241m/\u001b[39m max_mse_low \u001b[38;5;28;01mfor\u001b[39;00m mse \u001b[38;5;129;01min\u001b[39;00m total_mse_low]\n\u001b[0;32m---> 80\u001b[0m \u001b[38;5;28mprint\u001b[39m(\u001b[43mtotal_mse_high_normalized\u001b[49m)\n\u001b[1;32m     81\u001b[0m \u001b[38;5;28mprint\u001b[39m(total_mse_low_normalized)\n",
            "\u001b[0;31mNameError\u001b[0m: name 'total_mse_high_normalized' is not defined"
          ]
        }
      ],
      "source": [
        "# Configurações iniciais\n",
        "previsao_dias = 15\n",
        "root_path = os.getcwd()\n",
        "minmaxcaler_5y = root_path + '/minmaxcaler_5y'\n",
        "lista = [a[2] for a in os.walk(minmaxcaler_5y)]\n",
        "minmaxcaler_5y\n",
        "\n",
        "# Preparação dos dados\n",
        "total_mse_high = []\n",
        "total_mse_low = []\n",
        "count_files = 0\n",
        "\n",
        "for arquivo in lista:\n",
        "    df = pd.read_csv(os.path.join(minmaxcaler_5y, arquivo))\n",
        "    df = df.drop(columns=['Datetime'])\n",
        "    codigo = arquivo.split('_')[0]  # assumindo que o código da ação está no nome do arquivo\n",
        "\n",
        "    # Ajustando scalers\n",
        "    scaler_high = MinMaxScaler()\n",
        "    scaler_low = MinMaxScaler()\n",
        "    high_data = scaler_high.fit_transform(df[['High']])\n",
        "    low_data = scaler_low.fit_transform(df[['Low']])\n",
        "    combined_data = np.hstack((high_data, low_data))\n",
        "\n",
        "    training_size = int(len(combined_data) * 0.75)\n",
        "    train_data = combined_data[:training_size]\n",
        "    test_data = combined_data[training_size - previsao_dias:]\n",
        "\n",
        "    x_train, y_train, x_test, y_test = [], [], [], []\n",
        "\n",
        "    for i in range(previsao_dias, len(train_data)):\n",
        "        x_train.append(train_data[i-previsao_dias:i])\n",
        "        y_train.append(train_data[i])\n",
        "\n",
        "    for i in range(previsao_dias, len(test_data)):\n",
        "        x_test.append(test_data[i-previsao_dias:i])\n",
        "        y_test.append(test_data[i])\n",
        "\n",
        "    x_train, y_train = np.array(x_train), np.array(y_train)\n",
        "    x_test, y_test = np.array(x_test), np.array(y_test)\n",
        "\n",
        "    # Modelo\n",
        "    model = Sequential()\n",
        "    model.add(LSTM(100, return_sequences=False, input_shape=(previsao_dias, 2)))\n",
        "    model.add(Dense(2))\n",
        "    model.compile(loss='mean_squared_error', optimizer='adam')\n",
        "    model.fit(x_train, y_train, epochs=15, batch_size=32, validation_split=0.1)\n",
        "\n",
        "    # Baixando dados reais\n",
        "    dados_reais = yf.download([codigo + \".SA\"], period = \"5y\", interval=\"1d\")\n",
        "    dados_reais = dados_reais.dropna(axis = 0)\n",
        "    dados = pd.DataFrame()\n",
        "    dados[\"Datetime\"] = dados_reais.index[:-1]\n",
        "\n",
        "    for colunas in [\"High\", \"Low\"]:\n",
        "      dados[colunas] = dados_reais[colunas].values[:-1]\n",
        "    reais_high = dados_reais['High'].values\n",
        "    reais_low = dados_reais['Low'].values\n",
        "\n",
        "\n",
        "    # Previsão e cálculo do MSE\n",
        "    predictions = model.predict(x_test)\n",
        "    highs_predictions_rescaled = scaler_high.inverse_transform(predictions[:, 0].reshape(-1, 1)).flatten()\n",
        "    lows_predictions_rescaled = scaler_low.inverse_transform(predictions[:, 1].reshape(-1, 1)).flatten()\n",
        "\n",
        "    print(highs_predictions_rescaled)\n",
        "\n",
        "    mse_high = mean_squared_error(reais_high[-len(highs_predictions_rescaled):], highs_predictions_rescaled)\n",
        "    mse_low = mean_squared_error(reais_low[-len(lows_predictions_rescaled):], lows_predictions_rescaled)\n",
        "\n",
        "    total_mse_high.append(mse_high)\n",
        "    total_mse_low.append(mse_low)\n",
        "\n",
        "    max_mse_high = max(total_mse_high)\n",
        "    max_mse_low = max(total_mse_low)\n",
        "\n",
        "    total_mse_high_normalized = [mse / max_mse_high for mse in total_mse_high]\n",
        "    total_mse_low_normalized = [mse / max_mse_low for mse in total_mse_low]\n",
        "\n",
        "print(total_mse_high_normalized)\n",
        "print(total_mse_low_normalized)"
      ]
    },
    {
      "cell_type": "code",
      "execution_count": 4,
      "metadata": {
        "colab": {
          "base_uri": "https://localhost:8080/"
        },
        "id": "eB8_TmA4KlEE",
        "outputId": "16c5e723-14be-47db-ee8c-754e1d194ea8"
      },
      "outputs": [
        {
          "ename": "NameError",
          "evalue": "name 'total_mse_high_normalized' is not defined",
          "output_type": "error",
          "traceback": [
            "\u001b[0;31m---------------------------------------------------------------------------\u001b[0m",
            "\u001b[0;31mNameError\u001b[0m                                 Traceback (most recent call last)",
            "Cell \u001b[0;32mIn[4], line 1\u001b[0m\n\u001b[0;32m----> 1\u001b[0m \u001b[38;5;28mprint\u001b[39m(\u001b[38;5;28mstr\u001b[39m(\u001b[38;5;28msum\u001b[39m(\u001b[43mtotal_mse_high_normalized\u001b[49m)))\n\u001b[1;32m      2\u001b[0m \u001b[38;5;28mprint\u001b[39m(\u001b[38;5;28mstr\u001b[39m(\u001b[38;5;28msum\u001b[39m(total_mse_low_normalized)))\n",
            "\u001b[0;31mNameError\u001b[0m: name 'total_mse_high_normalized' is not defined"
          ]
        }
      ],
      "source": [
        "print(str(sum(total_mse_high_normalized)))\n",
        "print(str(sum(total_mse_low_normalized)))"
      ]
    },
    {
      "cell_type": "markdown",
      "metadata": {},
      "source": [
        "\n",
        "https://medium.com/geekculture/10-hyperparameters-to-keep-an-eye-on-for-your-lstm-model-and-other-tips-f0ff5b63fcd4"
      ]
    },
    {
      "cell_type": "code",
      "execution_count": null,
      "metadata": {},
      "outputs": [],
      "source": []
    }
  ],
  "metadata": {
    "colab": {
      "provenance": []
    },
    "kernelspec": {
      "display_name": "Python 3",
      "name": "python3"
    },
    "language_info": {
      "codemirror_mode": {
        "name": "ipython",
        "version": 3
      },
      "file_extension": ".py",
      "mimetype": "text/x-python",
      "name": "python",
      "nbconvert_exporter": "python",
      "pygments_lexer": "ipython3",
      "version": "3.10.12"
    }
  },
  "nbformat": 4,
  "nbformat_minor": 0
}
